{
 "cells": [
  {
   "cell_type": "code",
   "execution_count": 188,
   "metadata": {},
   "outputs": [],
   "source": [
    "import requests\n",
    "\n",
    "from PIL import Image\n",
    "from IPython.display import display\n",
    "from io import BytesIO\n"
   ]
  },
  {
   "cell_type": "code",
   "execution_count": 2,
   "metadata": {},
   "outputs": [],
   "source": [
    "uriprot_id = \"p08183\"\n",
    "pdb_id=\"4R3C\""
   ]
  },
  {
   "cell_type": "code",
   "execution_count": 3,
   "metadata": {},
   "outputs": [],
   "source": [
    "#rcsb database \n",
    "ress=requests.get(f\"https://files.rcsb.org/download/{pdb_id}.pdb\",pdb_id)\n",
    "with open(f\"{pdb_id}.pdb\",'wb') as file :\n",
    "    file.write(ress.content)"
   ]
  },
  {
   "cell_type": "code",
   "execution_count": 4,
   "metadata": {},
   "outputs": [],
   "source": [
    "# AlphaFold2 Database\n",
    "response = requests.get(\"https://alphafold.ebi.ac.uk/api/prediction/\"+uriprot_id)\n",
    "data = response.json()[0]"
   ]
  },
  {
   "cell_type": "code",
   "execution_count": 5,
   "metadata": {},
   "outputs": [],
   "source": [
    "headers={\"Accept\": \"application/json\", \"Content-Type\": \"application/json\"} \n",
    "ress=requests.get(\"https://www.ebi.ac.uk/proteins/api/proteins?offset=0&size=10&organism=homo\", headers=headers)"
   ]
  },
  {
   "cell_type": "code",
   "execution_count": 6,
   "metadata": {},
   "outputs": [],
   "source": [
    "ress2=requests.get(\"https://www.ebi.ac.uk/proteins/api/proteins?offset=0&size=10&protein=p08183\", headers=headers)"
   ]
  },
  {
   "cell_type": "code",
   "execution_count": 7,
   "metadata": {},
   "outputs": [],
   "source": [
    "data_uniprot = ress2.json()"
   ]
  },
  {
   "cell_type": "code",
   "execution_count": 8,
   "metadata": {},
   "outputs": [
    {
     "name": "stdout",
     "output_type": "stream",
     "text": [
      "{'accession': 'U4LL60', 'id': 'U4LL60_PYROM', 'proteinExistence': 'Inferred from homology', 'info': {'type': 'TrEMBL', 'created': '2013-12-11', 'modified': '2024-03-27', 'version': 58}, 'organism': {'taxonomy': 1076935, 'names': [{'type': 'scientific', 'value': 'Pyronema omphalodes (strain CBS 100304)'}, {'type': 'common', 'value': 'Pyronema confluens'}], 'lineage': ['Eukaryota', 'Fungi', 'Dikarya', 'Ascomycota', 'Pezizomycotina', 'Pezizomycetes', 'Pezizales', 'Pyronemataceae', 'Pyronema']}, 'protein': {'submittedName': [{'fullName': {'value': 'Similar to Multidrug resistance protein 1 acc. no. P08183', 'evidences': [{'code': 'ECO:0000313', 'source': {'name': 'EMBL', 'id': 'CCX13655.1', 'url': 'https://www.ebi.ac.uk/ena/browser/view/CCX13655.1'}}]}}]}, 'gene': [{'orfNames': [{'value': 'PCON_13248', 'evidences': [{'code': 'ECO:0000313', 'source': {'name': 'EMBL', 'id': 'CCX13655.1', 'url': 'https://www.ebi.ac.uk/ena/browser/view/CCX13655.1'}}]}]}], 'comments': [{'type': 'SUBCELLULAR_LOCATION', 'locations': [{'location': {'value': 'Membrane', 'evidences': [{'code': 'ECO:0000256', 'source': {'name': 'ARBA', 'id': 'ARBA00004141', 'url': ''}}]}, 'topology': {'value': 'Multi-pass membrane protein', 'evidences': [{'code': 'ECO:0000256', 'source': {'name': 'ARBA', 'id': 'ARBA00004141', 'url': ''}}]}}]}, {'type': 'SIMILARITY', 'text': [{'value': 'Belongs to the ABC transporter superfamily. ABCB family. Multidrug resistance exporter (TC 3.A.1.201) subfamily', 'evidences': [{'code': 'ECO:0000256', 'source': {'name': 'ARBA', 'id': 'ARBA00007577', 'url': ''}}]}]}], 'features': [{'type': 'TRANSMEM', 'category': 'TOPOLOGY', 'description': 'Helical', 'begin': '85', 'end': '109', 'molecule': '', 'evidences': [{'code': 'ECO:0000256', 'source': {'name': 'SAM', 'id': 'Phobius', 'url': 'https://www.uniprot.org/help/sam'}}]}, {'type': 'TRANSMEM', 'category': 'TOPOLOGY', 'description': 'Helical', 'begin': '139', 'end': '160', 'molecule': '', 'evidences': [{'code': 'ECO:0000256', 'source': {'name': 'SAM', 'id': 'Phobius', 'url': 'https://www.uniprot.org/help/sam'}}]}, {'type': 'TRANSMEM', 'category': 'TOPOLOGY', 'description': 'Helical', 'begin': '212', 'end': '231', 'molecule': '', 'evidences': [{'code': 'ECO:0000256', 'source': {'name': 'SAM', 'id': 'Phobius', 'url': 'https://www.uniprot.org/help/sam'}}]}, {'type': 'TRANSMEM', 'category': 'TOPOLOGY', 'description': 'Helical', 'begin': '237', 'end': '259', 'molecule': '', 'evidences': [{'code': 'ECO:0000256', 'source': {'name': 'SAM', 'id': 'Phobius', 'url': 'https://www.uniprot.org/help/sam'}}]}, {'type': 'TRANSMEM', 'category': 'TOPOLOGY', 'description': 'Helical', 'begin': '315', 'end': '333', 'molecule': '', 'evidences': [{'code': 'ECO:0000256', 'source': {'name': 'SAM', 'id': 'Phobius', 'url': 'https://www.uniprot.org/help/sam'}}]}, {'type': 'TRANSMEM', 'category': 'TOPOLOGY', 'description': 'Helical', 'begin': '345', 'end': '365', 'molecule': '', 'evidences': [{'code': 'ECO:0000256', 'source': {'name': 'SAM', 'id': 'Phobius', 'url': 'https://www.uniprot.org/help/sam'}}]}, {'type': 'TRANSMEM', 'category': 'TOPOLOGY', 'description': 'Helical', 'begin': '756', 'end': '784', 'molecule': '', 'evidences': [{'code': 'ECO:0000256', 'source': {'name': 'SAM', 'id': 'Phobius', 'url': 'https://www.uniprot.org/help/sam'}}]}, {'type': 'TRANSMEM', 'category': 'TOPOLOGY', 'description': 'Helical', 'begin': '804', 'end': '827', 'molecule': '', 'evidences': [{'code': 'ECO:0000256', 'source': {'name': 'SAM', 'id': 'Phobius', 'url': 'https://www.uniprot.org/help/sam'}}]}, {'type': 'TRANSMEM', 'category': 'TOPOLOGY', 'description': 'Helical', 'begin': '879', 'end': '899', 'molecule': '', 'evidences': [{'code': 'ECO:0000256', 'source': {'name': 'SAM', 'id': 'Phobius', 'url': 'https://www.uniprot.org/help/sam'}}]}, {'type': 'TRANSMEM', 'category': 'TOPOLOGY', 'description': 'Helical', 'begin': '905', 'end': '926', 'molecule': '', 'evidences': [{'code': 'ECO:0000256', 'source': {'name': 'SAM', 'id': 'Phobius', 'url': 'https://www.uniprot.org/help/sam'}}]}, {'type': 'TRANSMEM', 'category': 'TOPOLOGY', 'description': 'Helical', 'begin': '987', 'end': '1007', 'molecule': '', 'evidences': [{'code': 'ECO:0000256', 'source': {'name': 'SAM', 'id': 'Phobius', 'url': 'https://www.uniprot.org/help/sam'}}]}, {'type': 'TRANSMEM', 'category': 'TOPOLOGY', 'description': 'Helical', 'begin': '1019', 'end': '1043', 'molecule': '', 'evidences': [{'code': 'ECO:0000256', 'source': {'name': 'SAM', 'id': 'Phobius', 'url': 'https://www.uniprot.org/help/sam'}}]}, {'type': 'DOMAIN', 'category': 'DOMAINS_AND_SITES', 'description': 'ABC transmembrane type-1', 'begin': '89', 'end': '374', 'molecule': '', 'evidences': [{'code': 'ECO:0000259', 'source': {'name': 'PROSITE', 'id': 'PS50929', 'url': 'https://prosite.expasy.org/cgi-bin/prosite/get-prosite-raw.pl?PS50929'}}]}, {'type': 'DOMAIN', 'category': 'DOMAINS_AND_SITES', 'description': 'ABC transporter', 'begin': '412', 'end': '654', 'molecule': '', 'evidences': [{'code': 'ECO:0000259', 'source': {'name': 'PROSITE', 'id': 'PS50893', 'url': 'https://prosite.expasy.org/cgi-bin/prosite/get-prosite-raw.pl?PS50893'}}]}, {'type': 'DOMAIN', 'category': 'DOMAINS_AND_SITES', 'description': 'ABC transmembrane type-1', 'begin': '759', 'end': '1048', 'molecule': '', 'evidences': [{'code': 'ECO:0000259', 'source': {'name': 'PROSITE', 'id': 'PS50929', 'url': 'https://prosite.expasy.org/cgi-bin/prosite/get-prosite-raw.pl?PS50929'}}]}, {'type': 'DOMAIN', 'category': 'DOMAINS_AND_SITES', 'description': 'ABC transporter', 'begin': '1083', 'end': '1321', 'molecule': '', 'evidences': [{'code': 'ECO:0000259', 'source': {'name': 'PROSITE', 'id': 'PS50893', 'url': 'https://prosite.expasy.org/cgi-bin/prosite/get-prosite-raw.pl?PS50893'}}]}, {'type': 'REGION', 'category': 'DOMAINS_AND_SITES', 'description': 'Disordered', 'begin': '1', 'end': '37', 'molecule': '', 'evidences': [{'code': 'ECO:0000256', 'source': {'name': 'SAM', 'id': 'MobiDB-lite', 'url': 'https://www.uniprot.org/help/sam'}}]}], 'dbReferences': [{'type': 'EMBL', 'id': 'HF935887', 'properties': {'molecule type': 'Genomic_DNA', 'protein sequence ID': 'CCX13655.1'}}, {'type': 'STRING', 'id': '1076935.U4LL60'}, {'type': 'eggNOG', 'id': 'KOG0055', 'properties': {'taxonomic scope': 'Eukaryota'}}, {'type': 'OMA', 'id': 'GFGQEEQ'}, {'type': 'OrthoDB', 'id': '1067095at2759'}, {'type': 'Proteomes', 'id': 'UP000018144', 'properties': {'component': 'Unassembled WGS sequence'}}, {'type': 'GO', 'id': 'GO:0016020', 'properties': {'term': 'C:membrane', 'source': 'IEA:UniProtKB-SubCell'}}, {'type': 'GO', 'id': 'GO:0140359', 'properties': {'term': 'F:ABC-type transporter activity', 'source': 'IEA:InterPro'}}, {'type': 'GO', 'id': 'GO:0005524', 'properties': {'term': 'F:ATP binding', 'source': 'IEA:UniProtKB-KW'}}, {'type': 'GO', 'id': 'GO:0016887', 'properties': {'term': 'F:ATP hydrolysis activity', 'source': 'IEA:InterPro'}}, {'type': 'CDD', 'id': 'cd18577', 'properties': {'match status': '1', 'entry name': 'ABC_6TM_Pgp_ABCB1_D1_like'}}, {'type': 'CDD', 'id': 'cd18578', 'properties': {'match status': '1', 'entry name': 'ABC_6TM_Pgp_ABCB1_D2_like'}}, {'type': 'CDD', 'id': 'cd03249', 'properties': {'match status': '2', 'entry name': 'ABC_MTABC3_MDL1_MDL2'}}, {'type': 'Gene3D', 'id': '1.20.1560.10', 'properties': {'match status': '2', 'entry name': 'ABC transporter type 1, transmembrane domain'}}, {'type': 'Gene3D', 'id': '3.40.50.300', 'properties': {'match status': '2', 'entry name': 'P-loop containing nucleotide triphosphate hydrolases'}}, {'type': 'InterPro', 'id': 'IPR003593', 'properties': {'entry name': 'AAA+_ATPase'}}, {'type': 'InterPro', 'id': 'IPR011527', 'properties': {'entry name': 'ABC1_TM_dom'}}, {'type': 'InterPro', 'id': 'IPR036640', 'properties': {'entry name': 'ABC1_TM_sf'}}, {'type': 'InterPro', 'id': 'IPR003439', 'properties': {'entry name': 'ABC_transporter-like_ATP-bd'}}, {'type': 'InterPro', 'id': 'IPR017871', 'properties': {'entry name': 'ABC_transporter-like_CS'}}, {'type': 'InterPro', 'id': 'IPR027417', 'properties': {'entry name': 'P-loop_NTPase'}}, {'type': 'InterPro', 'id': 'IPR039421', 'properties': {'entry name': 'Type_1_exporter'}}, {'type': 'PANTHER', 'id': 'PTHR24221', 'properties': {'match status': '1', 'entry name': 'ATP-BINDING CASSETTE SUB-FAMILY B'}}, {'type': 'PANTHER', 'id': 'PTHR24221:SF503', 'properties': {'match status': '1', 'entry name': 'LP14331P'}}, {'type': 'Pfam', 'id': 'PF00664', 'properties': {'match status': '2', 'entry name': 'ABC_membrane'}}, {'type': 'Pfam', 'id': 'PF00005', 'properties': {'match status': '2', 'entry name': 'ABC_tran'}}, {'type': 'SMART', 'id': 'SM00382', 'properties': {'match status': '2', 'entry name': 'AAA'}}, {'type': 'SUPFAM', 'id': 'SSF90123', 'properties': {'match status': '2', 'entry name': 'ABC transporter transmembrane region'}}, {'type': 'SUPFAM', 'id': 'SSF52540', 'properties': {'match status': '2', 'entry name': 'P-loop containing nucleoside triphosphate hydrolases'}}, {'type': 'PROSITE', 'id': 'PS50929', 'properties': {'match status': '2', 'entry name': 'ABC_TM1F'}}, {'type': 'PROSITE', 'id': 'PS00211', 'properties': {'match status': '2', 'entry name': 'ABC_TRANSPORTER_1'}}, {'type': 'PROSITE', 'id': 'PS50893', 'properties': {'match status': '2', 'entry name': 'ABC_TRANSPORTER_2'}}], 'keywords': [{'value': 'ATP-binding', 'evidences': [{'code': 'ECO:0000256', 'source': {'name': 'ARBA', 'id': 'ARBA00022840', 'url': ''}}]}, {'value': 'Membrane', 'evidences': [{'code': 'ECO:0000256', 'source': {'name': 'ARBA', 'id': 'ARBA00023136', 'url': ''}}, {'code': 'ECO:0000256', 'source': {'name': 'SAM', 'id': 'Phobius', 'url': 'https://www.uniprot.org/help/sam'}}]}, {'value': 'Nucleotide-binding', 'evidences': [{'code': 'ECO:0000256', 'source': {'name': 'ARBA', 'id': 'ARBA00022741', 'url': ''}}]}, {'value': 'Transmembrane', 'evidences': [{'code': 'ECO:0000256', 'source': {'name': 'ARBA', 'id': 'ARBA00022692', 'url': ''}}, {'code': 'ECO:0000256', 'source': {'name': 'SAM', 'id': 'Phobius', 'url': 'https://www.uniprot.org/help/sam'}}]}, {'value': 'Transmembrane helix', 'evidences': [{'code': 'ECO:0000256', 'source': {'name': 'ARBA', 'id': 'ARBA00022989', 'url': ''}}, {'code': 'ECO:0000256', 'source': {'name': 'SAM', 'id': 'Phobius', 'url': 'https://www.uniprot.org/help/sam'}}]}], 'references': [{'citation': {'type': 'journal article', 'publicationDate': '2013', 'title': 'The genome and development-dependent transcriptomes of Pyronema confluens: a window into fungal evolution.', 'authors': ['Traeger S.', 'Altegoer F.', 'Freitag M.', 'Gabaldon T.', 'Kempken F.', 'Kumar A.', 'Marcet-Houben M.', 'Poggeler S.', 'Stajich J.E.', 'Nowrousian M.'], 'publication': {'journalName': 'PLoS Genet.'}, 'location': {'volume': '9', 'firstPage': 'E1003820', 'lastPage': 'E1003820'}, 'dbReferences': [{'type': 'PubMed', 'id': '24068976'}, {'type': 'DOI', 'id': '10.1371/journal.pgen.1003820'}]}, 'source': {'strain': [{'value': 'CBS100304', 'evidences': [{'code': 'ECO:0000313', 'source': {'name': 'EMBL', 'id': 'CCX13655.1', 'url': 'https://www.ebi.ac.uk/ena/browser/view/CCX13655.1'}}]}], 'tissue': [{'value': 'Vegetative mycelium', 'evidences': [{'code': 'ECO:0000313', 'source': {'name': 'EMBL', 'id': 'CCX13655.1', 'url': 'https://www.ebi.ac.uk/ena/browser/view/CCX13655.1'}}]}]}, 'scope': ['NUCLEOTIDE SEQUENCE [LARGE SCALE GENOMIC DNA]'], 'evidences': [{'code': 'ECO:0000313', 'source': {'name': 'EMBL', 'id': 'CCX13655.1', 'url': 'https://www.ebi.ac.uk/ena/browser/view/CCX13655.1'}}]}], 'sequence': {'version': 1, 'length': 1328, 'mass': 145169, 'modified': '2013-12-11', 'sequence': 'MSTDDTEKINHELDGEKEAPPRQSTESLRKLDSKVQAANKDDKVEVDELAHLPEHEREIIRRQVDILDVKLNFGALYRFATVNDIILVIIGSLTSIIGGAILPFMTILFGSLAQTFQDFALGKITSGHMQSEINRFTLYFVYLGIGEFVMVYIGTVSFIYTGEHIAAKVREEYLQAILRQNIGYFDKLGAGEITTRITADTNLIQDGISEKIGLTLTAVASFFTAFIIGFVKSWKLTLILSCTFFAITGVMGGASPFIVKFSKANIQSYAEGGTVAEEVFSSIRNTQAFNTQDKLARMYDKHLQVARGWGFRSKAVIGGMGIVYLNYGLAFWQGSRFMIRGEANLSGVLTVLMAVMIGAFSLGNVAPNTQAFTTAVSAAQKIYSTIDRVSPLNPDDESGEKLESVEGTIELRHVKHIYPSRPAVEVLKDMSLYIPAGKVTALVGASGSGKSTIVGLVERFYDPVAGEILLDGHDVRDLNLRWLREHISLVSQEPTLFATTIYENVCHGLIGTRHENASEEVKRDLVVKACIMSNADGFIRSLPEGYETNVGERGFLMSGGQKQRIAIARAVVSDPKILLLDEATSALDTRSEGVVQAALDEAAKGRTTIVIAHRLSTIKTASNIVVMQEGRIVEQGTHDELLERKGAYYGLVEAQQIAQAKEKEAVMGAQDSDESSIDEDEELVLKITKSHNSGKGDASVDPADENIRDKLTRTATAKSKSSIALANKPKEVKGTYSLWTLIKMTAALNTTRKEKILMVVGLFASIVCGSGNTVQAVFFAKAIMSLSKPPSQFAEVKSGANFWSGMYLMLAIIIFSAYAIQGMAFAYCSERLIHRVRDKAFRTMLRQDIGWFDKEENTTGSLVSFLSTESTHLAGMSGVTLGTILNVSTTLISALVVGMAVGWKLALVCTACIPVLLACGFLRFWMLARFQRISKRAYEKSAGYACEATSAIRTVASLARERDVAGKYHEQLVEQGKKSLISILKNSLLYASSQSLMFLVMALGFWYGGSLIRTQEYDMLKFFLVYSAIIFGAQSAGTIFSFAPDMGKAKQAATELKVLFDRVPEIDVWSPDGEQVTAMEGTLEFRDVHFRYPTRAEQPVLRGLNLTVKPGQYIALVGPSGCGKSTTISLIERFYNPLHGGVFVDGKDISSLNLTQYRSHLALVSQEPTLYQGTIRENILLGGDREDVTDADIEAACKAANIYDFIISLPEGFNTLCGSKGTLLSGGQKQRIAIARALIRNPKILLLDEATSALDSESEKVVQEALDKAAKGRTTIAVAHRLSTIQKADVIYVFDAGRVVEAGNHDELMRLGGKYAELVGMQSLGRNA'}}\n"
     ]
    }
   ],
   "source": [
    "for i in data_uniprot:\n",
    "    print(i)"
   ]
  },
  {
   "cell_type": "code",
   "execution_count": 9,
   "metadata": {},
   "outputs": [],
   "source": [
    "params_uniprot = ['id', 'text', 'url', ' ligand']"
   ]
  },
  {
   "cell_type": "code",
   "execution_count": 10,
   "metadata": {},
   "outputs": [],
   "source": [
    "heads={\"Accept\": \"application/json\",\n",
    "\"Accept-Encoding\": \"gzip, deflate, br, zstd\",\n",
    "\"Accept-Language\":\"en-US,en;q=0.9\",\n",
    "\"Connection\":\"keep-alive\",\n",
    "\"Content-Type\": \"application/json\",\n",
    "\"Host\": \"www.ebi.ac.uk\"\n",
    "}"
   ]
  },
  {
   "cell_type": "code",
   "execution_count": 11,
   "metadata": {},
   "outputs": [],
   "source": [
    "resp=requests.get(\"https://www.ebi.ac.uk/proteins/api/proteins?offset=0&size=10&protein=insulin\", headers=heads)\n",
    "uniprot_data = resp.json()\n",
    "# uniprot_data"
   ]
  },
  {
   "cell_type": "code",
   "execution_count": 23,
   "metadata": {},
   "outputs": [
    {
     "name": "stdout",
     "output_type": "stream",
     "text": [
      "UniProt IDs found: [['GG5', 'A', '401'], ['3GF', 'A', '402'], ['3GF', 'A', '403'], ['CL', 'A', '404']]\n"
     ]
    }
   ],
   "source": [
    "def extract_uniprot_ids(pdb_file_path):\n",
    "    uniprot_ids = []\n",
    "\n",
    "    with open(pdb_file_path, 'r') as file:\n",
    "        for line in file:\n",
    "            if line.startswith(\"REMARK 800 SITE_DESCRIPTION: BINDING SITE FOR RESIDUE\"):\n",
    "                # Example DBREF line format:\n",
    "                # DBREF   1  A  100  120  1  P12345  1  20  100  120  1\n",
    "                parts = line.split()\n",
    "                # UniProt ID is usually the 7th element in the DBREF line\n",
    "                uniprot_id = parts[7:]\n",
    "                if uniprot_id:\n",
    "                    uniprot_ids.append(uniprot_id)\n",
    "    \n",
    "    return uniprot_ids\n",
    "\n",
    "\n",
    "# Example usage\n",
    "pdb_file_path = '4R3C.pdb'  # Replace with your PDB file path\n",
    "uniprot_ids = extract_uniprot_ids(pdb_file_path)\n",
    "print(\"UniProt IDs found:\", uniprot_ids)\n"
   ]
  },
  {
   "cell_type": "code",
   "execution_count": 24,
   "metadata": {},
   "outputs": [
    {
     "data": {
      "text/plain": [
       "['GG5_A_401', '3GF_A_402', '3GF_A_403', 'CL_A_404']"
      ]
     },
     "execution_count": 24,
     "metadata": {},
     "output_type": "execute_result"
    }
   ],
   "source": [
    "ligand_list=[]\n",
    "for i in uniprot_ids:\n",
    "    ligand = \"_\".join(i)\n",
    "    ligand_list.append(ligand)\n",
    "ligand_list"
   ]
  },
  {
   "cell_type": "code",
   "execution_count": 16,
   "metadata": {},
   "outputs": [],
   "source": [
    "# LINK         NE2 HIS A  87                FE   HEM A 142     1555   1555  2.14  \n",
    "# LINK         NE2 HIS B  92                FE   HEM B 148     1555   1555  2.22  \n",
    "# LINK         NE2 HIS C  87                FE   HEM C 142     1555   1555  2.26  \n",
    "# LINK         NE2 HIS D  92                FE   HEM D 148     1555   1555  1.98  \n"
   ]
  },
  {
   "cell_type": "code",
   "execution_count": 26,
   "metadata": {},
   "outputs": [
    {
     "name": "stdout",
     "output_type": "stream",
     "text": [
      "UniProt IDs found: []\n"
     ]
    }
   ],
   "source": [
    "def extract_uniprot_ids(pdb_file_path):\n",
    "    uniprot_ids = []\n",
    "\n",
    "    with open(pdb_file_path, 'r') as file:\n",
    "        for line in file:\n",
    "            if line.startswith(\"HETATM\"):\n",
    "                # Example DBREF line format:\n",
    "                # DBREF   1  A  100  120  1  P12345  1  20  100  120  1\n",
    "                parts = line.split()\n",
    "                # UniProt ID is usually the 7th element in the DBREF line\n",
    "                uniprot_id = parts\n",
    "                if uniprot_id:\n",
    "                    uniprot_ids.append(uniprot_id)\n",
    "    \n",
    "    return uniprot_ids\n",
    "\n",
    "\n",
    "# Example usage\n",
    "pdb_file_path = '4hhb.pdb'  # Replace with your PDB file path\n",
    "uniprot_ids = extract_uniprot_ids(pdb_file_path)\n",
    "print(\"UniProt IDs found:\", uniprot_ids)\n"
   ]
  },
  {
   "cell_type": "code",
   "execution_count": 25,
   "metadata": {},
   "outputs": [],
   "source": [
    "# SITE_DESCRIPTION: BINDING SITE FOR RESIDUE 4H3C \n",
    "# SITE_DESCRIPTION: BINDING SITE FOR RESIDUE 2H8H\n",
    "# SITE_DESCRIPTION: BINDING SITE FOR RESIDUE 6SMB\n",
    "\n"
   ]
  },
  {
   "cell_type": "code",
   "execution_count": 28,
   "metadata": {},
   "outputs": [],
   "source": [
    "import time \n",
    "def run_protoss(pdb_id):\n",
    "    url = 'https://proteins.plus/api/protoss_rest'\n",
    "    payload = {\"protoss\": {\"pdbCode\": pdb_id}}\n",
    "    headers={\"Accept\": \"application/json\", \"Content-Type\": \"application/json\"}\n",
    "    response = requests.post(url, json=payload, headers=headers, timeout=30)\n",
    "    response.raise_for_status()\n",
    "    time.sleep(5)        \n",
    "    if response.status_code==200:\n",
    "        loc=response.json()['location']\n",
    "        job_response = requests.get(loc)\n",
    "        return job_response.json()\n",
    "    else:\n",
    "        return 'Unknown Server Error'\n"
   ]
  },
  {
   "cell_type": "code",
   "execution_count": 41,
   "metadata": {},
   "outputs": [],
   "source": [
    "def protos():\n",
    "    processed_data = run_protoss(pdb_id)\n",
    "    protein = processed_data['protein']\n",
    "    ligands = processed_data['ligands']\n",
    "    log = processed_data['log']\n",
    "\n",
    "    return protein, ligands, log \n"
   ]
  },
  {
   "cell_type": "code",
   "execution_count": 42,
   "metadata": {},
   "outputs": [
    {
     "data": {
      "text/plain": [
       "('https://proteins.plus/results/protoss/ZLq2PLA7ub6KwDtsjiay7gVo/4r3c.pdb',\n",
       " 'https://proteins.plus/results/protoss/ZLq2PLA7ub6KwDtsjiay7gVo/4r3c.sdf',\n",
       " 'https://proteins.plus/results/protoss/ZLq2PLA7ub6KwDtsjiay7gVo/4r3c_log.txt')"
      ]
     },
     "execution_count": 42,
     "metadata": {},
     "output_type": "execute_result"
    }
   ],
   "source": [
    "protos()"
   ]
  },
  {
   "cell_type": "code",
   "execution_count": 74,
   "metadata": {},
   "outputs": [],
   "source": [
    "url=\"https://swissdock.ch:8443/preplig\"\n",
    "ligand_smiles=\"CCO\"\n",
    "params={\n",
    "    \"mySMILES\":ligand_smiles\n",
    "}"
   ]
  },
  {
   "cell_type": "code",
   "execution_count": 204,
   "metadata": {},
   "outputs": [
    {
     "data": {
      "text/plain": [
       "{'status_code': 200,\n",
       " 'result_png_picture': 'https://proteins.plus/results/poseview/z8gH6VebAwKDN13zyrjq4pa3/4r3c_GG5_A_401.png',\n",
       " 'result_pdf_picture': 'https://proteins.plus/results/poseview/z8gH6VebAwKDN13zyrjq4pa3/4r3c_GG5_A_401.pdf',\n",
       " 'result_svg_picture': 'https://proteins.plus/results/poseview/z8gH6VebAwKDN13zyrjq4pa3/4r3c_GG5_A_401.svg'}"
      ]
     },
     "execution_count": 204,
     "metadata": {},
     "output_type": "execute_result"
    }
   ],
   "source": [
    "#pose view \n",
    "headers={\"Accept\": \"application/json\", \"Content-Type\": \"application/json\"} \n",
    "params = {\n",
    "            \"poseview\": {\n",
    "            \"pdbCode\":\"4R3C\",\n",
    "            \"ligand\":\"GG5_A_401\"}\n",
    "            }\n",
    "     \n",
    "response = requests.post(\"https://proteins.plus/api/poseview_rest\",headers=headers,json=params)\n",
    "location = response.json()['location']\n",
    "visuals = requests.get(location).json()\n",
    "img=requests.get(visuals['result_png_picture'])\n",
    "visuals"
   ]
  },
  {
   "cell_type": "code",
   "execution_count": 205,
   "metadata": {},
   "outputs": [
    {
     "data": {
      "image/png": "[encoded data removed]",
      "text/plain": [
       "<PIL.Image.Image image mode=RGBA size=450x400>"
      ]
     },
     "metadata": {},
     "output_type": "display_data"
    }
   ],
   "source": [
    "image = Image.open(BytesIO(img.content))\n",
    "# (width, height)\n",
    "new_size = (450, 400)  \n",
    "img_resized = image.resize(new_size)\n",
    "display(img_resized)\n"
   ]
  },
  {
   "cell_type": "code",
   "execution_count": 212,
   "metadata": {},
   "outputs": [
    {
     "data": {
      "text/plain": [
       "<Response [404]>"
      ]
     },
     "execution_count": 212,
     "metadata": {},
     "output_type": "execute_result"
    }
   ],
   "source": []
  },
  {
   "cell_type": "code",
   "execution_count": null,
   "metadata": {},
   "outputs": [],
   "source": []
  },
  {
   "cell_type": "code",
   "execution_count": null,
   "metadata": {},
   "outputs": [],
   "source": []
  }
 ],
 "metadata": {
  "kernelspec": {
   "display_name": "myenv",
   "language": "python",
   "name": "python3"
  },
  "language_info": {
   "codemirror_mode": {
    "name": "ipython",
    "version": 3
   },
   "file_extension": ".py",
   "mimetype": "text/x-python",
   "name": "python",
   "nbconvert_exporter": "python",
   "pygments_lexer": "ipython3",
   "version": "3.12.4"
  },
  "orig_nbformat": 4
 },
 "nbformat": 4,
 "nbformat_minor": 2
}
