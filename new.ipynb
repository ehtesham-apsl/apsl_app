{
 "cells": [
  {
   "cell_type": "code",
   "execution_count": 1,
   "metadata": {},
   "outputs": [],
   "source": [
    "import requests"
   ]
  },
  {
   "cell_type": "code",
   "execution_count": 2,
   "metadata": {},
   "outputs": [],
   "source": [
    "uriprot_id = \"p08183\"\n",
    "pdb_id=\"4R3C\""
   ]
  },
  {
   "cell_type": "code",
   "execution_count": 3,
   "metadata": {},
   "outputs": [],
   "source": [
    "#rcsb database \n",
    "ress=requests.get(f\"https://files.rcsb.org/download/{pdb_id}.pdb\",pdb_id)\n",
    "with open(f\"{pdb_id}.pdb\",'wb') as file :\n",
    "    file.write(ress.content)"
   ]
  },
  {
   "cell_type": "code",
   "execution_count": 4,
   "metadata": {},
   "outputs": [],
   "source": [
    "# AlphaFold2 Database\n",
    "response = requests.get(\"https://alphafold.ebi.ac.uk/api/prediction/\"+uriprot_id)\n",
    "data = response.json()[0]"
   ]
  },
  {
   "cell_type": "code",
   "execution_count": 5,
   "metadata": {},
   "outputs": [],
   "source": [
    "headers={\"Accept\": \"application/json\", \"Content-Type\": \"application/json\"} \n",
    "ress=requests.get(\"https://www.ebi.ac.uk/proteins/api/proteins?offset=0&size=10&organism=homo\", headers=headers)"
   ]
  },
  {
   "cell_type": "code",
   "execution_count": 6,
   "metadata": {},
   "outputs": [],
   "source": [
    "ress2=requests.get(\"https://www.ebi.ac.uk/proteins/api/proteins?offset=0&size=10&protein=p08183\", headers=headers)"
   ]
  },
  {
   "cell_type": "code",
   "execution_count": 7,
   "metadata": {},
   "outputs": [],
   "source": [
    "data_uniprot = ress2.json()"
   ]
  },
  {
   "cell_type": "code",
   "execution_count": 8,
   "metadata": {},
   "outputs": [
    {
     "name": "stdout",
     "output_type": "stream",
     "text": [
      "{'accession': 'U4LL60', 'id': 'U4LL60_PYROM', 'proteinExistence': 'Inferred from homology', 'info': {'type': 'TrEMBL', 'created': '2013-12-11', 'modified': '2024-03-27', 'version': 58}, 'organism': {'taxonomy': 1076935, 'names': [{'type': 'scientific', 'value': 'Pyronema omphalodes (strain CBS 100304)'}, {'type': 'common', 'value': 'Pyronema confluens'}], 'lineage': ['Eukaryota', 'Fungi', 'Dikarya', 'Ascomycota', 'Pezizomycotina', 'Pezizomycetes', 'Pezizales', 'Pyronemataceae', 'Pyronema']}, 'protein': {'submittedName': [{'fullName': {'value': 'Similar to Multidrug resistance protein 1 acc. no. P08183', 'evidences': [{'code': 'ECO:0000313', 'source': {'name': 'EMBL', 'id': 'CCX13655.1', 'url': 'https://www.ebi.ac.uk/ena/browser/view/CCX13655.1'}}]}}]}, 'gene': [{'orfNames': [{'value': 'PCON_13248', 'evidences': [{'code': 'ECO:0000313', 'source': {'name': 'EMBL', 'id': 'CCX13655.1', 'url': 'https://www.ebi.ac.uk/ena/browser/view/CCX13655.1'}}]}]}], 'comments': [{'type': 'SUBCELLULAR_LOCATION', 'locations': [{'location': {'value': 'Membrane', 'evidences': [{'code': 'ECO:0000256', 'source': {'name': 'ARBA', 'id': 'ARBA00004141', 'url': ''}}]}, 'topology': {'value': 'Multi-pass membrane protein', 'evidences': [{'code': 'ECO:0000256', 'source': {'name': 'ARBA', 'id': 'ARBA00004141', 'url': ''}}]}}]}, {'type': 'SIMILARITY', 'text': [{'value': 'Belongs to the ABC transporter superfamily. ABCB family. Multidrug resistance exporter (TC 3.A.1.201) subfamily', 'evidences': [{'code': 'ECO:0000256', 'source': {'name': 'ARBA', 'id': 'ARBA00007577', 'url': ''}}]}]}], 'features': [{'type': 'TRANSMEM', 'category': 'TOPOLOGY', 'description': 'Helical', 'begin': '85', 'end': '109', 'molecule': '', 'evidences': [{'code': 'ECO:0000256', 'source': {'name': 'SAM', 'id': 'Phobius', 'url': 'https://www.uniprot.org/help/sam'}}]}, {'type': 'TRANSMEM', 'category': 'TOPOLOGY', 'description': 'Helical', 'begin': '139', 'end': '160', 'molecule': '', 'evidences': [{'code': 'ECO:0000256', 'source': {'name': 'SAM', 'id': 'Phobius', 'url': 'https://www.uniprot.org/help/sam'}}]}, {'type': 'TRANSMEM', 'category': 'TOPOLOGY', 'description': 'Helical', 'begin': '212', 'end': '231', 'molecule': '', 'evidences': [{'code': 'ECO:0000256', 'source': {'name': 'SAM', 'id': 'Phobius', 'url': 'https://www.uniprot.org/help/sam'}}]}, {'type': 'TRANSMEM', 'category': 'TOPOLOGY', 'description': 'Helical', 'begin': '237', 'end': '259', 'molecule': '', 'evidences': [{'code': 'ECO:0000256', 'source': {'name': 'SAM', 'id': 'Phobius', 'url': 'https://www.uniprot.org/help/sam'}}]}, {'type': 'TRANSMEM', 'category': 'TOPOLOGY', 'description': 'Helical', 'begin': '315', 'end': '333', 'molecule': '', 'evidences': [{'code': 'ECO:0000256', 'source': {'name': 'SAM', 'id': 'Phobius', 'url': 'https://www.uniprot.org/help/sam'}}]}, {'type': 'TRANSMEM', 'category': 'TOPOLOGY', 'description': 'Helical', 'begin': '345', 'end': '365', 'molecule': '', 'evidences': [{'code': 'ECO:0000256', 'source': {'name': 'SAM', 'id': 'Phobius', 'url': 'https://www.uniprot.org/help/sam'}}]}, {'type': 'TRANSMEM', 'category': 'TOPOLOGY', 'description': 'Helical', 'begin': '756', 'end': '784', 'molecule': '', 'evidences': [{'code': 'ECO:0000256', 'source': {'name': 'SAM', 'id': 'Phobius', 'url': 'https://www.uniprot.org/help/sam'}}]}, {'type': 'TRANSMEM', 'category': 'TOPOLOGY', 'description': 'Helical', 'begin': '804', 'end': '827', 'molecule': '', 'evidences': [{'code': 'ECO:0000256', 'source': {'name': 'SAM', 'id': 'Phobius', 'url': 'https://www.uniprot.org/help/sam'}}]}, {'type': 'TRANSMEM', 'category': 'TOPOLOGY', 'description': 'Helical', 'begin': '879', 'end': '899', 'molecule': '', 'evidences': [{'code': 'ECO:0000256', 'source': {'name': 'SAM', 'id': 'Phobius', 'url': 'https://www.uniprot.org/help/sam'}}]}, {'type': 'TRANSMEM', 'category': 'TOPOLOGY', 'description': 'Helical', 'begin': '905', 'end': '926', 'molecule': '', 'evidences': [{'code': 'ECO:0000256', 'source': {'name': 'SAM', 'id': 'Phobius', 'url': 'https://www.uniprot.org/help/sam'}}]}, {'type': 'TRANSMEM', 'category': 'TOPOLOGY', 'description': 'Helical', 'begin': '987', 'end': '1007', 'molecule': '', 'evidences': [{'code': 'ECO:0000256', 'source': {'name': 'SAM', 'id': 'Phobius', 'url': 'https://www.uniprot.org/help/sam'}}]}, {'type': 'TRANSMEM', 'category': 'TOPOLOGY', 'description': 'Helical', 'begin': '1019', 'end': '1043', 'molecule': '', 'evidences': [{'code': 'ECO:0000256', 'source': {'name': 'SAM', 'id': 'Phobius', 'url': 'https://www.uniprot.org/help/sam'}}]}, {'type': 'DOMAIN', 'category': 'DOMAINS_AND_SITES', 'description': 'ABC transmembrane type-1', 'begin': '89', 'end': '374', 'molecule': '', 'evidences': [{'code': 'ECO:0000259', 'source': {'name': 'PROSITE', 'id': 'PS50929', 'url': 'https://prosite.expasy.org/cgi-bin/prosite/get-prosite-raw.pl?PS50929'}}]}, {'type': 'DOMAIN', 'category': 'DOMAINS_AND_SITES', 'description': 'ABC transporter', 'begin': '412', 'end': '654', 'molecule': '', 'evidences': [{'code': 'ECO:0000259', 'source': {'name': 'PROSITE', 'id': 'PS50893', 'url': 'https://prosite.expasy.org/cgi-bin/prosite/get-prosite-raw.pl?PS50893'}}]}, {'type': 'DOMAIN', 'category': 'DOMAINS_AND_SITES', 'description': 'ABC transmembrane type-1', 'begin': '759', 'end': '1048', 'molecule': '', 'evidences': [{'code': 'ECO:0000259', 'source': {'name': 'PROSITE', 'id': 'PS50929', 'url': 'https://prosite.expasy.org/cgi-bin/prosite/get-prosite-raw.pl?PS50929'}}]}, {'type': 'DOMAIN', 'category': 'DOMAINS_AND_SITES', 'description': 'ABC transporter', 'begin': '1083', 'end': '1321', 'molecule': '', 'evidences': [{'code': 'ECO:0000259', 'source': {'name': 'PROSITE', 'id': 'PS50893', 'url': 'https://prosite.expasy.org/cgi-bin/prosite/get-prosite-raw.pl?PS50893'}}]}, {'type': 'REGION', 'category': 'DOMAINS_AND_SITES', 'description': 'Disordered', 'begin': '1', 'end': '37', 'molecule': '', 'evidences': [{'code': 'ECO:0000256', 'source': {'name': 'SAM', 'id': 'MobiDB-lite', 'url': 'https://www.uniprot.org/help/sam'}}]}], 'dbReferences': [{'type': 'EMBL', 'id': 'HF935887', 'properties': {'molecule type': 'Genomic_DNA', 'protein sequence ID': 'CCX13655.1'}}, {'type': 'STRING', 'id': '1076935.U4LL60'}, {'type': 'eggNOG', 'id': 'KOG0055', 'properties': {'taxonomic scope': 'Eukaryota'}}, {'type': 'OMA', 'id': 'GFGQEEQ'}, {'type': 'OrthoDB', 'id': '1067095at2759'}, {'type': 'Proteomes', 'id': 'UP000018144', 'properties': {'component': 'Unassembled WGS sequence'}}, {'type': 'GO', 'id': 'GO:0016020', 'properties': {'term': 'C:membrane', 'source': 'IEA:UniProtKB-SubCell'}}, {'type': 'GO', 'id': 'GO:0140359', 'properties': {'term': 'F:ABC-type transporter activity', 'source': 'IEA:InterPro'}}, {'type': 'GO', 'id': 'GO:0005524', 'properties': {'term': 'F:ATP binding', 'source': 'IEA:UniProtKB-KW'}}, {'type': 'GO', 'id': 'GO:0016887', 'properties': {'term': 'F:ATP hydrolysis activity', 'source': 'IEA:InterPro'}}, {'type': 'CDD', 'id': 'cd18577', 'properties': {'match status': '1', 'entry name': 'ABC_6TM_Pgp_ABCB1_D1_like'}}, {'type': 'CDD', 'id': 'cd18578', 'properties': {'match status': '1', 'entry name': 'ABC_6TM_Pgp_ABCB1_D2_like'}}, {'type': 'CDD', 'id': 'cd03249', 'properties': {'match status': '2', 'entry name': 'ABC_MTABC3_MDL1_MDL2'}}, {'type': 'Gene3D', 'id': '1.20.1560.10', 'properties': {'match status': '2', 'entry name': 'ABC transporter type 1, transmembrane domain'}}, {'type': 'Gene3D', 'id': '3.40.50.300', 'properties': {'match status': '2', 'entry name': 'P-loop containing nucleotide triphosphate hydrolases'}}, {'type': 'InterPro', 'id': 'IPR003593', 'properties': {'entry name': 'AAA+_ATPase'}}, {'type': 'InterPro', 'id': 'IPR011527', 'properties': {'entry name': 'ABC1_TM_dom'}}, {'type': 'InterPro', 'id': 'IPR036640', 'properties': {'entry name': 'ABC1_TM_sf'}}, {'type': 'InterPro', 'id': 'IPR003439', 'properties': {'entry name': 'ABC_transporter-like_ATP-bd'}}, {'type': 'InterPro', 'id': 'IPR017871', 'properties': {'entry name': 'ABC_transporter-like_CS'}}, {'type': 'InterPro', 'id': 'IPR027417', 'properties': {'entry name': 'P-loop_NTPase'}}, {'type': 'InterPro', 'id': 'IPR039421', 'properties': {'entry name': 'Type_1_exporter'}}, {'type': 'PANTHER', 'id': 'PTHR24221', 'properties': {'match status': '1', 'entry name': 'ATP-BINDING CASSETTE SUB-FAMILY B'}}, {'type': 'PANTHER', 'id': 'PTHR24221:SF503', 'properties': {'match status': '1', 'entry name': 'LP14331P'}}, {'type': 'Pfam', 'id': 'PF00664', 'properties': {'match status': '2', 'entry name': 'ABC_membrane'}}, {'type': 'Pfam', 'id': 'PF00005', 'properties': {'match status': '2', 'entry name': 'ABC_tran'}}, {'type': 'SMART', 'id': 'SM00382', 'properties': {'match status': '2', 'entry name': 'AAA'}}, {'type': 'SUPFAM', 'id': 'SSF90123', 'properties': {'match status': '2', 'entry name': 'ABC transporter transmembrane region'}}, {'type': 'SUPFAM', 'id': 'SSF52540', 'properties': {'match status': '2', 'entry name': 'P-loop containing nucleoside triphosphate hydrolases'}}, {'type': 'PROSITE', 'id': 'PS50929', 'properties': {'match status': '2', 'entry name': 'ABC_TM1F'}}, {'type': 'PROSITE', 'id': 'PS00211', 'properties': {'match status': '2', 'entry name': 'ABC_TRANSPORTER_1'}}, {'type': 'PROSITE', 'id': 'PS50893', 'properties': {'match status': '2', 'entry name': 'ABC_TRANSPORTER_2'}}], 'keywords': [{'value': 'ATP-binding', 'evidences': [{'code': 'ECO:0000256', 'source': {'name': 'ARBA', 'id': 'ARBA00022840', 'url': ''}}]}, {'value': 'Membrane', 'evidences': [{'code': 'ECO:0000256', 'source': {'name': 'ARBA', 'id': 'ARBA00023136', 'url': ''}}, {'code': 'ECO:0000256', 'source': {'name': 'SAM', 'id': 'Phobius', 'url': 'https://www.uniprot.org/help/sam'}}]}, {'value': 'Nucleotide-binding', 'evidences': [{'code': 'ECO:0000256', 'source': {'name': 'ARBA', 'id': 'ARBA00022741', 'url': ''}}]}, {'value': 'Transmembrane', 'evidences': [{'code': 'ECO:0000256', 'source': {'name': 'ARBA', 'id': 'ARBA00022692', 'url': ''}}, {'code': 'ECO:0000256', 'source': {'name': 'SAM', 'id': 'Phobius', 'url': 'https://www.uniprot.org/help/sam'}}]}, {'value': 'Transmembrane helix', 'evidences': [{'code': 'ECO:0000256', 'source': {'name': 'ARBA', 'id': 'ARBA00022989', 'url': ''}}, {'code': 'ECO:0000256', 'source': {'name': 'SAM', 'id': 'Phobius', 'url': 'https://www.uniprot.org/help/sam'}}]}], 'references': [{'citation': {'type': 'journal article', 'publicationDate': '2013', 'title': 'The genome and development-dependent transcriptomes of Pyronema confluens: a window into fungal evolution.', 'authors': ['Traeger S.', 'Altegoer F.', 'Freitag M.', 'Gabaldon T.', 'Kempken F.', 'Kumar A.', 'Marcet-Houben M.', 'Poggeler S.', 'Stajich J.E.', 'Nowrousian M.'], 'publication': {'journalName': 'PLoS Genet.'}, 'location': {'volume': '9', 'firstPage': 'E1003820', 'lastPage': 'E1003820'}, 'dbReferences': [{'type': 'PubMed', 'id': '24068976'}, {'type': 'DOI', 'id': '10.1371/journal.pgen.1003820'}]}, 'source': {'strain': [{'value': 'CBS100304', 'evidences': [{'code': 'ECO:0000313', 'source': {'name': 'EMBL', 'id': 'CCX13655.1', 'url': 'https://www.ebi.ac.uk/ena/browser/view/CCX13655.1'}}]}], 'tissue': [{'value': 'Vegetative mycelium', 'evidences': [{'code': 'ECO:0000313', 'source': {'name': 'EMBL', 'id': 'CCX13655.1', 'url': 'https://www.ebi.ac.uk/ena/browser/view/CCX13655.1'}}]}]}, 'scope': ['NUCLEOTIDE SEQUENCE [LARGE SCALE GENOMIC DNA]'], 'evidences': [{'code': 'ECO:0000313', 'source': {'name': 'EMBL', 'id': 'CCX13655.1', 'url': 'https://www.ebi.ac.uk/ena/browser/view/CCX13655.1'}}]}], 'sequence': {'version': 1, 'length': 1328, 'mass': 145169, 'modified': '2013-12-11', 'sequence': 'MSTDDTEKINHELDGEKEAPPRQSTESLRKLDSKVQAANKDDKVEVDELAHLPEHEREIIRRQVDILDVKLNFGALYRFATVNDIILVIIGSLTSIIGGAILPFMTILFGSLAQTFQDFALGKITSGHMQSEINRFTLYFVYLGIGEFVMVYIGTVSFIYTGEHIAAKVREEYLQAILRQNIGYFDKLGAGEITTRITADTNLIQDGISEKIGLTLTAVASFFTAFIIGFVKSWKLTLILSCTFFAITGVMGGASPFIVKFSKANIQSYAEGGTVAEEVFSSIRNTQAFNTQDKLARMYDKHLQVARGWGFRSKAVIGGMGIVYLNYGLAFWQGSRFMIRGEANLSGVLTVLMAVMIGAFSLGNVAPNTQAFTTAVSAAQKIYSTIDRVSPLNPDDESGEKLESVEGTIELRHVKHIYPSRPAVEVLKDMSLYIPAGKVTALVGASGSGKSTIVGLVERFYDPVAGEILLDGHDVRDLNLRWLREHISLVSQEPTLFATTIYENVCHGLIGTRHENASEEVKRDLVVKACIMSNADGFIRSLPEGYETNVGERGFLMSGGQKQRIAIARAVVSDPKILLLDEATSALDTRSEGVVQAALDEAAKGRTTIVIAHRLSTIKTASNIVVMQEGRIVEQGTHDELLERKGAYYGLVEAQQIAQAKEKEAVMGAQDSDESSIDEDEELVLKITKSHNSGKGDASVDPADENIRDKLTRTATAKSKSSIALANKPKEVKGTYSLWTLIKMTAALNTTRKEKILMVVGLFASIVCGSGNTVQAVFFAKAIMSLSKPPSQFAEVKSGANFWSGMYLMLAIIIFSAYAIQGMAFAYCSERLIHRVRDKAFRTMLRQDIGWFDKEENTTGSLVSFLSTESTHLAGMSGVTLGTILNVSTTLISALVVGMAVGWKLALVCTACIPVLLACGFLRFWMLARFQRISKRAYEKSAGYACEATSAIRTVASLARERDVAGKYHEQLVEQGKKSLISILKNSLLYASSQSLMFLVMALGFWYGGSLIRTQEYDMLKFFLVYSAIIFGAQSAGTIFSFAPDMGKAKQAATELKVLFDRVPEIDVWSPDGEQVTAMEGTLEFRDVHFRYPTRAEQPVLRGLNLTVKPGQYIALVGPSGCGKSTTISLIERFYNPLHGGVFVDGKDISSLNLTQYRSHLALVSQEPTLYQGTIRENILLGGDREDVTDADIEAACKAANIYDFIISLPEGFNTLCGSKGTLLSGGQKQRIAIARALIRNPKILLLDEATSALDSESEKVVQEALDKAAKGRTTIAVAHRLSTIQKADVIYVFDAGRVVEAGNHDELMRLGGKYAELVGMQSLGRNA'}}\n"
     ]
    }
   ],
   "source": [
    "for i in data_uniprot:\n",
    "    print(i)"
   ]
  },
  {
   "cell_type": "code",
   "execution_count": 9,
   "metadata": {},
   "outputs": [],
   "source": [
    "params_uniprot = ['id', 'text', 'url', ' ligand']"
   ]
  },
  {
   "cell_type": "code",
   "execution_count": 10,
   "metadata": {},
   "outputs": [],
   "source": [
    "heads={\"Accept\": \"application/json\",\n",
    "\"Accept-Encoding\": \"gzip, deflate, br, zstd\",\n",
    "\"Accept-Language\":\"en-US,en;q=0.9\",\n",
    "\"Connection\":\"keep-alive\",\n",
    "\"Content-Type\": \"application/json\",\n",
    "\"Host\": \"www.ebi.ac.uk\"\n",
    "}"
   ]
  },
  {
   "cell_type": "code",
   "execution_count": 11,
   "metadata": {},
   "outputs": [],
   "source": [
    "resp=requests.get(\"https://www.ebi.ac.uk/proteins/api/proteins?offset=0&size=10&protein=insulin\", headers=heads)\n",
    "uniprot_data = resp.json()\n",
    "# uniprot_data"
   ]
  },
  {
   "cell_type": "code",
   "execution_count": 23,
   "metadata": {},
   "outputs": [
    {
     "name": "stdout",
     "output_type": "stream",
     "text": [
      "UniProt IDs found: [['GG5', 'A', '401'], ['3GF', 'A', '402'], ['3GF', 'A', '403'], ['CL', 'A', '404']]\n"
     ]
    }
   ],
   "source": [
    "def extract_uniprot_ids(pdb_file_path):\n",
    "    uniprot_ids = []\n",
    "\n",
    "    with open(pdb_file_path, 'r') as file:\n",
    "        for line in file:\n",
    "            if line.startswith(\"REMARK 800 SITE_DESCRIPTION: BINDING SITE FOR RESIDUE\"):\n",
    "                # Example DBREF line format:\n",
    "                # DBREF   1  A  100  120  1  P12345  1  20  100  120  1\n",
    "                parts = line.split()\n",
    "                # UniProt ID is usually the 7th element in the DBREF line\n",
    "                uniprot_id = parts[7:]\n",
    "                if uniprot_id:\n",
    "                    uniprot_ids.append(uniprot_id)\n",
    "    \n",
    "    return uniprot_ids\n",
    "\n",
    "\n",
    "# Example usage\n",
    "pdb_file_path = '4R3C.pdb'  # Replace with your PDB file path\n",
    "uniprot_ids = extract_uniprot_ids(pdb_file_path)\n",
    "print(\"UniProt IDs found:\", uniprot_ids)\n"
   ]
  },
  {
   "cell_type": "code",
   "execution_count": 24,
   "metadata": {},
   "outputs": [
    {
     "data": {
      "text/plain": [
       "['GG5_A_401', '3GF_A_402', '3GF_A_403', 'CL_A_404']"
      ]
     },
     "execution_count": 24,
     "metadata": {},
     "output_type": "execute_result"
    }
   ],
   "source": [
    "ligand_list=[]\n",
    "for i in uniprot_ids:\n",
    "    ligand = \"_\".join(i)\n",
    "    ligand_list.append(ligand)\n",
    "ligand_list"
   ]
  },
  {
   "cell_type": "code",
   "execution_count": 16,
   "metadata": {},
   "outputs": [],
   "source": [
    "# LINK         NE2 HIS A  87                FE   HEM A 142     1555   1555  2.14  \n",
    "# LINK         NE2 HIS B  92                FE   HEM B 148     1555   1555  2.22  \n",
    "# LINK         NE2 HIS C  87                FE   HEM C 142     1555   1555  2.26  \n",
    "# LINK         NE2 HIS D  92                FE   HEM D 148     1555   1555  1.98  \n"
   ]
  },
  {
   "cell_type": "code",
   "execution_count": 26,
   "metadata": {},
   "outputs": [
    {
     "name": "stdout",
     "output_type": "stream",
     "text": [
      "UniProt IDs found: []\n"
     ]
    }
   ],
   "source": [
    "def extract_uniprot_ids(pdb_file_path):\n",
    "    uniprot_ids = []\n",
    "\n",
    "    with open(pdb_file_path, 'r') as file:\n",
    "        for line in file:\n",
    "            if line.startswith(\"HETATM\"):\n",
    "                # Example DBREF line format:\n",
    "                # DBREF   1  A  100  120  1  P12345  1  20  100  120  1\n",
    "                parts = line.split()\n",
    "                # UniProt ID is usually the 7th element in the DBREF line\n",
    "                uniprot_id = parts\n",
    "                if uniprot_id:\n",
    "                    uniprot_ids.append(uniprot_id)\n",
    "    \n",
    "    return uniprot_ids\n",
    "\n",
    "\n",
    "# Example usage\n",
    "pdb_file_path = '4hhb.pdb'  # Replace with your PDB file path\n",
    "uniprot_ids = extract_uniprot_ids(pdb_file_path)\n",
    "print(\"UniProt IDs found:\", uniprot_ids)\n"
   ]
  },
  {
   "cell_type": "code",
   "execution_count": 25,
   "metadata": {},
   "outputs": [],
   "source": [
    "# SITE_DESCRIPTION: BINDING SITE FOR RESIDUE 4H3C \n",
    "# SITE_DESCRIPTION: BINDING SITE FOR RESIDUE 2H8H\n",
    "# SITE_DESCRIPTION: BINDING SITE FOR RESIDUE 6SMB\n",
    "\n"
   ]
  },
  {
   "cell_type": "code",
   "execution_count": 28,
   "metadata": {},
   "outputs": [],
   "source": [
    "import time \n",
    "def run_protoss(pdb_id):\n",
    "    url = 'https://proteins.plus/api/protoss_rest'\n",
    "    payload = {\"protoss\": {\"pdbCode\": pdb_id}}\n",
    "    headers={\"Accept\": \"application/json\", \"Content-Type\": \"application/json\"}\n",
    "    response = requests.post(url, json=payload, headers=headers, timeout=30)\n",
    "    response.raise_for_status()\n",
    "    time.sleep(5)        \n",
    "    if response.status_code==200:\n",
    "        loc=response.json()['location']\n",
    "        job_response = requests.get(loc)\n",
    "        return job_response.json()\n",
    "    else:\n",
    "        return 'Unknown Server Error'\n"
   ]
  },
  {
   "cell_type": "code",
   "execution_count": 41,
   "metadata": {},
   "outputs": [],
   "source": [
    "def protos():\n",
    "    processed_data = run_protoss(pdb_id)\n",
    "    protein = processed_data['protein']\n",
    "    ligands = processed_data['ligands']\n",
    "    log = processed_data['log']\n",
    "\n",
    "    return protein, ligands, log \n"
   ]
  },
  {
   "cell_type": "code",
   "execution_count": 42,
   "metadata": {},
   "outputs": [
    {
     "data": {
      "text/plain": [
       "('https://proteins.plus/results/protoss/ZLq2PLA7ub6KwDtsjiay7gVo/4r3c.pdb',\n",
       " 'https://proteins.plus/results/protoss/ZLq2PLA7ub6KwDtsjiay7gVo/4r3c.sdf',\n",
       " 'https://proteins.plus/results/protoss/ZLq2PLA7ub6KwDtsjiay7gVo/4r3c_log.txt')"
      ]
     },
     "execution_count": 42,
     "metadata": {},
     "output_type": "execute_result"
    }
   ],
   "source": [
    "protos()"
   ]
  },
  {
   "cell_type": "code",
   "execution_count": 74,
   "metadata": {},
   "outputs": [],
   "source": [
    "url=\"https://swissdock.ch:8443/preplig\"\n",
    "ligand_smiles=\"CCO\"\n",
    "params={\n",
    "    \"mySMILES\":ligand_smiles\n",
    "}"
   ]
  },
  {
   "cell_type": "code",
   "execution_count": 76,
   "metadata": {},
   "outputs": [
    {
     "ename": "ConnectTimeout",
     "evalue": "HTTPSConnectionPool(host='swissdock.ch', port=8443): Max retries exceeded with url: /preplig?mySMILES=CCO (Caused by ConnectTimeoutError(<urllib3.connection.HTTPSConnection object at 0x0000020161C71700>, 'Connection to swissdock.ch timed out. (connect timeout=None)'))",
     "output_type": "error",
     "traceback": [
      "\u001b[1;31m---------------------------------------------------------------------------\u001b[0m",
      "\u001b[1;31mTimeoutError\u001b[0m                              Traceback (most recent call last)",
      "File \u001b[1;32mc:\\Users\\T10001311\\.conda\\envs\\myenv\\Lib\\site-packages\\urllib3\\connection.py:196\u001b[0m, in \u001b[0;36mHTTPConnection._new_conn\u001b[1;34m(self)\u001b[0m\n\u001b[0;32m    195\u001b[0m \u001b[39mtry\u001b[39;00m:\n\u001b[1;32m--> 196\u001b[0m     sock \u001b[39m=\u001b[39m connection\u001b[39m.\u001b[39;49mcreate_connection(\n\u001b[0;32m    197\u001b[0m         (\u001b[39mself\u001b[39;49m\u001b[39m.\u001b[39;49m_dns_host, \u001b[39mself\u001b[39;49m\u001b[39m.\u001b[39;49mport),\n\u001b[0;32m    198\u001b[0m         \u001b[39mself\u001b[39;49m\u001b[39m.\u001b[39;49mtimeout,\n\u001b[0;32m    199\u001b[0m         source_address\u001b[39m=\u001b[39;49m\u001b[39mself\u001b[39;49m\u001b[39m.\u001b[39;49msource_address,\n\u001b[0;32m    200\u001b[0m         socket_options\u001b[39m=\u001b[39;49m\u001b[39mself\u001b[39;49m\u001b[39m.\u001b[39;49msocket_options,\n\u001b[0;32m    201\u001b[0m     )\n\u001b[0;32m    202\u001b[0m \u001b[39mexcept\u001b[39;00m socket\u001b[39m.\u001b[39mgaierror \u001b[39mas\u001b[39;00m e:\n",
      "File \u001b[1;32mc:\\Users\\T10001311\\.conda\\envs\\myenv\\Lib\\site-packages\\urllib3\\util\\connection.py:85\u001b[0m, in \u001b[0;36mcreate_connection\u001b[1;34m(address, timeout, source_address, socket_options)\u001b[0m\n\u001b[0;32m     84\u001b[0m \u001b[39mtry\u001b[39;00m:\n\u001b[1;32m---> 85\u001b[0m     \u001b[39mraise\u001b[39;00m err\n\u001b[0;32m     86\u001b[0m \u001b[39mfinally\u001b[39;00m:\n\u001b[0;32m     87\u001b[0m     \u001b[39m# Break explicitly a reference cycle\u001b[39;00m\n",
      "File \u001b[1;32mc:\\Users\\T10001311\\.conda\\envs\\myenv\\Lib\\site-packages\\urllib3\\util\\connection.py:73\u001b[0m, in \u001b[0;36mcreate_connection\u001b[1;34m(address, timeout, source_address, socket_options)\u001b[0m\n\u001b[0;32m     72\u001b[0m     sock\u001b[39m.\u001b[39mbind(source_address)\n\u001b[1;32m---> 73\u001b[0m sock\u001b[39m.\u001b[39;49mconnect(sa)\n\u001b[0;32m     74\u001b[0m \u001b[39m# Break explicitly a reference cycle\u001b[39;00m\n",
      "\u001b[1;31mTimeoutError\u001b[0m: [WinError 10060] A connection attempt failed because the connected party did not properly respond after a period of time, or established connection failed because connected host has failed to respond",
      "\nThe above exception was the direct cause of the following exception:\n",
      "\u001b[1;31mConnectTimeoutError\u001b[0m                       Traceback (most recent call last)",
      "File \u001b[1;32mc:\\Users\\T10001311\\.conda\\envs\\myenv\\Lib\\site-packages\\urllib3\\connectionpool.py:789\u001b[0m, in \u001b[0;36mHTTPConnectionPool.urlopen\u001b[1;34m(self, method, url, body, headers, retries, redirect, assert_same_host, timeout, pool_timeout, release_conn, chunked, body_pos, preload_content, decode_content, **response_kw)\u001b[0m\n\u001b[0;32m    788\u001b[0m \u001b[39m# Make the request on the HTTPConnection object\u001b[39;00m\n\u001b[1;32m--> 789\u001b[0m response \u001b[39m=\u001b[39m \u001b[39mself\u001b[39;49m\u001b[39m.\u001b[39;49m_make_request(\n\u001b[0;32m    790\u001b[0m     conn,\n\u001b[0;32m    791\u001b[0m     method,\n\u001b[0;32m    792\u001b[0m     url,\n\u001b[0;32m    793\u001b[0m     timeout\u001b[39m=\u001b[39;49mtimeout_obj,\n\u001b[0;32m    794\u001b[0m     body\u001b[39m=\u001b[39;49mbody,\n\u001b[0;32m    795\u001b[0m     headers\u001b[39m=\u001b[39;49mheaders,\n\u001b[0;32m    796\u001b[0m     chunked\u001b[39m=\u001b[39;49mchunked,\n\u001b[0;32m    797\u001b[0m     retries\u001b[39m=\u001b[39;49mretries,\n\u001b[0;32m    798\u001b[0m     response_conn\u001b[39m=\u001b[39;49mresponse_conn,\n\u001b[0;32m    799\u001b[0m     preload_content\u001b[39m=\u001b[39;49mpreload_content,\n\u001b[0;32m    800\u001b[0m     decode_content\u001b[39m=\u001b[39;49mdecode_content,\n\u001b[0;32m    801\u001b[0m     \u001b[39m*\u001b[39;49m\u001b[39m*\u001b[39;49mresponse_kw,\n\u001b[0;32m    802\u001b[0m )\n\u001b[0;32m    804\u001b[0m \u001b[39m# Everything went great!\u001b[39;00m\n",
      "File \u001b[1;32mc:\\Users\\T10001311\\.conda\\envs\\myenv\\Lib\\site-packages\\urllib3\\connectionpool.py:490\u001b[0m, in \u001b[0;36mHTTPConnectionPool._make_request\u001b[1;34m(self, conn, method, url, body, headers, retries, timeout, chunked, response_conn, preload_content, decode_content, enforce_content_length)\u001b[0m\n\u001b[0;32m    489\u001b[0m         new_e \u001b[39m=\u001b[39m _wrap_proxy_error(new_e, conn\u001b[39m.\u001b[39mproxy\u001b[39m.\u001b[39mscheme)\n\u001b[1;32m--> 490\u001b[0m     \u001b[39mraise\u001b[39;00m new_e\n\u001b[0;32m    492\u001b[0m \u001b[39m# conn.request() calls http.client.*.request, not the method in\u001b[39;00m\n\u001b[0;32m    493\u001b[0m \u001b[39m# urllib3.request. It also calls makefile (recv) on the socket.\u001b[39;00m\n",
      "File \u001b[1;32mc:\\Users\\T10001311\\.conda\\envs\\myenv\\Lib\\site-packages\\urllib3\\connectionpool.py:466\u001b[0m, in \u001b[0;36mHTTPConnectionPool._make_request\u001b[1;34m(self, conn, method, url, body, headers, retries, timeout, chunked, response_conn, preload_content, decode_content, enforce_content_length)\u001b[0m\n\u001b[0;32m    465\u001b[0m \u001b[39mtry\u001b[39;00m:\n\u001b[1;32m--> 466\u001b[0m     \u001b[39mself\u001b[39;49m\u001b[39m.\u001b[39;49m_validate_conn(conn)\n\u001b[0;32m    467\u001b[0m \u001b[39mexcept\u001b[39;00m (SocketTimeout, BaseSSLError) \u001b[39mas\u001b[39;00m e:\n",
      "File \u001b[1;32mc:\\Users\\T10001311\\.conda\\envs\\myenv\\Lib\\site-packages\\urllib3\\connectionpool.py:1095\u001b[0m, in \u001b[0;36mHTTPSConnectionPool._validate_conn\u001b[1;34m(self, conn)\u001b[0m\n\u001b[0;32m   1094\u001b[0m \u001b[39mif\u001b[39;00m conn\u001b[39m.\u001b[39mis_closed:\n\u001b[1;32m-> 1095\u001b[0m     conn\u001b[39m.\u001b[39;49mconnect()\n\u001b[0;32m   1097\u001b[0m \u001b[39m# TODO revise this, see https://github.com/urllib3/urllib3/issues/2791\u001b[39;00m\n",
      "File \u001b[1;32mc:\\Users\\T10001311\\.conda\\envs\\myenv\\Lib\\site-packages\\urllib3\\connection.py:615\u001b[0m, in \u001b[0;36mHTTPSConnection.connect\u001b[1;34m(self)\u001b[0m\n\u001b[0;32m    614\u001b[0m sock: socket\u001b[39m.\u001b[39msocket \u001b[39m|\u001b[39m ssl\u001b[39m.\u001b[39mSSLSocket\n\u001b[1;32m--> 615\u001b[0m \u001b[39mself\u001b[39m\u001b[39m.\u001b[39msock \u001b[39m=\u001b[39m sock \u001b[39m=\u001b[39m \u001b[39mself\u001b[39;49m\u001b[39m.\u001b[39;49m_new_conn()\n\u001b[0;32m    616\u001b[0m server_hostname: \u001b[39mstr\u001b[39m \u001b[39m=\u001b[39m \u001b[39mself\u001b[39m\u001b[39m.\u001b[39mhost\n",
      "File \u001b[1;32mc:\\Users\\T10001311\\.conda\\envs\\myenv\\Lib\\site-packages\\urllib3\\connection.py:205\u001b[0m, in \u001b[0;36mHTTPConnection._new_conn\u001b[1;34m(self)\u001b[0m\n\u001b[0;32m    204\u001b[0m \u001b[39mexcept\u001b[39;00m SocketTimeout \u001b[39mas\u001b[39;00m e:\n\u001b[1;32m--> 205\u001b[0m     \u001b[39mraise\u001b[39;00m ConnectTimeoutError(\n\u001b[0;32m    206\u001b[0m         \u001b[39mself\u001b[39m,\n\u001b[0;32m    207\u001b[0m         \u001b[39mf\u001b[39m\u001b[39m\"\u001b[39m\u001b[39mConnection to \u001b[39m\u001b[39m{\u001b[39;00m\u001b[39mself\u001b[39m\u001b[39m.\u001b[39mhost\u001b[39m}\u001b[39;00m\u001b[39m timed out. (connect timeout=\u001b[39m\u001b[39m{\u001b[39;00m\u001b[39mself\u001b[39m\u001b[39m.\u001b[39mtimeout\u001b[39m}\u001b[39;00m\u001b[39m)\u001b[39m\u001b[39m\"\u001b[39m,\n\u001b[0;32m    208\u001b[0m     ) \u001b[39mfrom\u001b[39;00m \u001b[39me\u001b[39;00m\n\u001b[0;32m    210\u001b[0m \u001b[39mexcept\u001b[39;00m \u001b[39mOSError\u001b[39;00m \u001b[39mas\u001b[39;00m e:\n",
      "\u001b[1;31mConnectTimeoutError\u001b[0m: (<urllib3.connection.HTTPSConnection object at 0x0000020161C71700>, 'Connection to swissdock.ch timed out. (connect timeout=None)')",
      "\nThe above exception was the direct cause of the following exception:\n",
      "\u001b[1;31mMaxRetryError\u001b[0m                             Traceback (most recent call last)",
      "File \u001b[1;32mc:\\Users\\T10001311\\.conda\\envs\\myenv\\Lib\\site-packages\\requests\\adapters.py:667\u001b[0m, in \u001b[0;36mHTTPAdapter.send\u001b[1;34m(self, request, stream, timeout, verify, cert, proxies)\u001b[0m\n\u001b[0;32m    666\u001b[0m \u001b[39mtry\u001b[39;00m:\n\u001b[1;32m--> 667\u001b[0m     resp \u001b[39m=\u001b[39m conn\u001b[39m.\u001b[39;49murlopen(\n\u001b[0;32m    668\u001b[0m         method\u001b[39m=\u001b[39;49mrequest\u001b[39m.\u001b[39;49mmethod,\n\u001b[0;32m    669\u001b[0m         url\u001b[39m=\u001b[39;49murl,\n\u001b[0;32m    670\u001b[0m         body\u001b[39m=\u001b[39;49mrequest\u001b[39m.\u001b[39;49mbody,\n\u001b[0;32m    671\u001b[0m         headers\u001b[39m=\u001b[39;49mrequest\u001b[39m.\u001b[39;49mheaders,\n\u001b[0;32m    672\u001b[0m         redirect\u001b[39m=\u001b[39;49m\u001b[39mFalse\u001b[39;49;00m,\n\u001b[0;32m    673\u001b[0m         assert_same_host\u001b[39m=\u001b[39;49m\u001b[39mFalse\u001b[39;49;00m,\n\u001b[0;32m    674\u001b[0m         preload_content\u001b[39m=\u001b[39;49m\u001b[39mFalse\u001b[39;49;00m,\n\u001b[0;32m    675\u001b[0m         decode_content\u001b[39m=\u001b[39;49m\u001b[39mFalse\u001b[39;49;00m,\n\u001b[0;32m    676\u001b[0m         retries\u001b[39m=\u001b[39;49m\u001b[39mself\u001b[39;49m\u001b[39m.\u001b[39;49mmax_retries,\n\u001b[0;32m    677\u001b[0m         timeout\u001b[39m=\u001b[39;49mtimeout,\n\u001b[0;32m    678\u001b[0m         chunked\u001b[39m=\u001b[39;49mchunked,\n\u001b[0;32m    679\u001b[0m     )\n\u001b[0;32m    681\u001b[0m \u001b[39mexcept\u001b[39;00m (ProtocolError, \u001b[39mOSError\u001b[39;00m) \u001b[39mas\u001b[39;00m err:\n",
      "File \u001b[1;32mc:\\Users\\T10001311\\.conda\\envs\\myenv\\Lib\\site-packages\\urllib3\\connectionpool.py:843\u001b[0m, in \u001b[0;36mHTTPConnectionPool.urlopen\u001b[1;34m(self, method, url, body, headers, retries, redirect, assert_same_host, timeout, pool_timeout, release_conn, chunked, body_pos, preload_content, decode_content, **response_kw)\u001b[0m\n\u001b[0;32m    841\u001b[0m     new_e \u001b[39m=\u001b[39m ProtocolError(\u001b[39m\"\u001b[39m\u001b[39mConnection aborted.\u001b[39m\u001b[39m\"\u001b[39m, new_e)\n\u001b[1;32m--> 843\u001b[0m retries \u001b[39m=\u001b[39m retries\u001b[39m.\u001b[39;49mincrement(\n\u001b[0;32m    844\u001b[0m     method, url, error\u001b[39m=\u001b[39;49mnew_e, _pool\u001b[39m=\u001b[39;49m\u001b[39mself\u001b[39;49m, _stacktrace\u001b[39m=\u001b[39;49msys\u001b[39m.\u001b[39;49mexc_info()[\u001b[39m2\u001b[39;49m]\n\u001b[0;32m    845\u001b[0m )\n\u001b[0;32m    846\u001b[0m retries\u001b[39m.\u001b[39msleep()\n",
      "File \u001b[1;32mc:\\Users\\T10001311\\.conda\\envs\\myenv\\Lib\\site-packages\\urllib3\\util\\retry.py:519\u001b[0m, in \u001b[0;36mRetry.increment\u001b[1;34m(self, method, url, response, error, _pool, _stacktrace)\u001b[0m\n\u001b[0;32m    518\u001b[0m     reason \u001b[39m=\u001b[39m error \u001b[39mor\u001b[39;00m ResponseError(cause)\n\u001b[1;32m--> 519\u001b[0m     \u001b[39mraise\u001b[39;00m MaxRetryError(_pool, url, reason) \u001b[39mfrom\u001b[39;00m \u001b[39mreason\u001b[39;00m  \u001b[39m# type: ignore[arg-type]\u001b[39;00m\n\u001b[0;32m    521\u001b[0m log\u001b[39m.\u001b[39mdebug(\u001b[39m\"\u001b[39m\u001b[39mIncremented Retry for (url=\u001b[39m\u001b[39m'\u001b[39m\u001b[39m%s\u001b[39;00m\u001b[39m'\u001b[39m\u001b[39m): \u001b[39m\u001b[39m%r\u001b[39;00m\u001b[39m\"\u001b[39m, url, new_retry)\n",
      "\u001b[1;31mMaxRetryError\u001b[0m: HTTPSConnectionPool(host='swissdock.ch', port=8443): Max retries exceeded with url: /preplig?mySMILES=CCO (Caused by ConnectTimeoutError(<urllib3.connection.HTTPSConnection object at 0x0000020161C71700>, 'Connection to swissdock.ch timed out. (connect timeout=None)'))",
      "\nDuring handling of the above exception, another exception occurred:\n",
      "\u001b[1;31mConnectTimeout\u001b[0m                            Traceback (most recent call last)",
      "Cell \u001b[1;32mIn[76], line 1\u001b[0m\n\u001b[1;32m----> 1\u001b[0m requests\u001b[39m.\u001b[39;49mget(url,params\u001b[39m=\u001b[39;49mparams)\n",
      "File \u001b[1;32mc:\\Users\\T10001311\\.conda\\envs\\myenv\\Lib\\site-packages\\requests\\api.py:73\u001b[0m, in \u001b[0;36mget\u001b[1;34m(url, params, **kwargs)\u001b[0m\n\u001b[0;32m     62\u001b[0m \u001b[39mdef\u001b[39;00m \u001b[39mget\u001b[39m(url, params\u001b[39m=\u001b[39m\u001b[39mNone\u001b[39;00m, \u001b[39m*\u001b[39m\u001b[39m*\u001b[39mkwargs):\n\u001b[0;32m     63\u001b[0m \u001b[39m    \u001b[39m\u001b[39mr\u001b[39m\u001b[39m\"\"\"Sends a GET request.\u001b[39;00m\n\u001b[0;32m     64\u001b[0m \n\u001b[0;32m     65\u001b[0m \u001b[39m    :param url: URL for the new :class:`Request` object.\u001b[39;00m\n\u001b[1;32m   (...)\u001b[0m\n\u001b[0;32m     70\u001b[0m \u001b[39m    :rtype: requests.Response\u001b[39;00m\n\u001b[0;32m     71\u001b[0m \u001b[39m    \"\"\"\u001b[39;00m\n\u001b[1;32m---> 73\u001b[0m     \u001b[39mreturn\u001b[39;00m request(\u001b[39m\"\u001b[39;49m\u001b[39mget\u001b[39;49m\u001b[39m\"\u001b[39;49m, url, params\u001b[39m=\u001b[39;49mparams, \u001b[39m*\u001b[39;49m\u001b[39m*\u001b[39;49mkwargs)\n",
      "File \u001b[1;32mc:\\Users\\T10001311\\.conda\\envs\\myenv\\Lib\\site-packages\\requests\\api.py:59\u001b[0m, in \u001b[0;36mrequest\u001b[1;34m(method, url, **kwargs)\u001b[0m\n\u001b[0;32m     55\u001b[0m \u001b[39m# By using the 'with' statement we are sure the session is closed, thus we\u001b[39;00m\n\u001b[0;32m     56\u001b[0m \u001b[39m# avoid leaving sockets open which can trigger a ResourceWarning in some\u001b[39;00m\n\u001b[0;32m     57\u001b[0m \u001b[39m# cases, and look like a memory leak in others.\u001b[39;00m\n\u001b[0;32m     58\u001b[0m \u001b[39mwith\u001b[39;00m sessions\u001b[39m.\u001b[39mSession() \u001b[39mas\u001b[39;00m session:\n\u001b[1;32m---> 59\u001b[0m     \u001b[39mreturn\u001b[39;00m session\u001b[39m.\u001b[39;49mrequest(method\u001b[39m=\u001b[39;49mmethod, url\u001b[39m=\u001b[39;49murl, \u001b[39m*\u001b[39;49m\u001b[39m*\u001b[39;49mkwargs)\n",
      "File \u001b[1;32mc:\\Users\\T10001311\\.conda\\envs\\myenv\\Lib\\site-packages\\requests\\sessions.py:589\u001b[0m, in \u001b[0;36mSession.request\u001b[1;34m(self, method, url, params, data, headers, cookies, files, auth, timeout, allow_redirects, proxies, hooks, stream, verify, cert, json)\u001b[0m\n\u001b[0;32m    584\u001b[0m send_kwargs \u001b[39m=\u001b[39m {\n\u001b[0;32m    585\u001b[0m     \u001b[39m\"\u001b[39m\u001b[39mtimeout\u001b[39m\u001b[39m\"\u001b[39m: timeout,\n\u001b[0;32m    586\u001b[0m     \u001b[39m\"\u001b[39m\u001b[39mallow_redirects\u001b[39m\u001b[39m\"\u001b[39m: allow_redirects,\n\u001b[0;32m    587\u001b[0m }\n\u001b[0;32m    588\u001b[0m send_kwargs\u001b[39m.\u001b[39mupdate(settings)\n\u001b[1;32m--> 589\u001b[0m resp \u001b[39m=\u001b[39m \u001b[39mself\u001b[39;49m\u001b[39m.\u001b[39;49msend(prep, \u001b[39m*\u001b[39;49m\u001b[39m*\u001b[39;49msend_kwargs)\n\u001b[0;32m    591\u001b[0m \u001b[39mreturn\u001b[39;00m resp\n",
      "File \u001b[1;32mc:\\Users\\T10001311\\.conda\\envs\\myenv\\Lib\\site-packages\\requests\\sessions.py:703\u001b[0m, in \u001b[0;36mSession.send\u001b[1;34m(self, request, **kwargs)\u001b[0m\n\u001b[0;32m    700\u001b[0m start \u001b[39m=\u001b[39m preferred_clock()\n\u001b[0;32m    702\u001b[0m \u001b[39m# Send the request\u001b[39;00m\n\u001b[1;32m--> 703\u001b[0m r \u001b[39m=\u001b[39m adapter\u001b[39m.\u001b[39;49msend(request, \u001b[39m*\u001b[39;49m\u001b[39m*\u001b[39;49mkwargs)\n\u001b[0;32m    705\u001b[0m \u001b[39m# Total elapsed time of the request (approximately)\u001b[39;00m\n\u001b[0;32m    706\u001b[0m elapsed \u001b[39m=\u001b[39m preferred_clock() \u001b[39m-\u001b[39m start\n",
      "File \u001b[1;32mc:\\Users\\T10001311\\.conda\\envs\\myenv\\Lib\\site-packages\\requests\\adapters.py:688\u001b[0m, in \u001b[0;36mHTTPAdapter.send\u001b[1;34m(self, request, stream, timeout, verify, cert, proxies)\u001b[0m\n\u001b[0;32m    685\u001b[0m \u001b[39mif\u001b[39;00m \u001b[39misinstance\u001b[39m(e\u001b[39m.\u001b[39mreason, ConnectTimeoutError):\n\u001b[0;32m    686\u001b[0m     \u001b[39m# TODO: Remove this in 3.0.0: see #2811\u001b[39;00m\n\u001b[0;32m    687\u001b[0m     \u001b[39mif\u001b[39;00m \u001b[39mnot\u001b[39;00m \u001b[39misinstance\u001b[39m(e\u001b[39m.\u001b[39mreason, NewConnectionError):\n\u001b[1;32m--> 688\u001b[0m         \u001b[39mraise\u001b[39;00m ConnectTimeout(e, request\u001b[39m=\u001b[39mrequest)\n\u001b[0;32m    690\u001b[0m \u001b[39mif\u001b[39;00m \u001b[39misinstance\u001b[39m(e\u001b[39m.\u001b[39mreason, ResponseError):\n\u001b[0;32m    691\u001b[0m     \u001b[39mraise\u001b[39;00m RetryError(e, request\u001b[39m=\u001b[39mrequest)\n",
      "\u001b[1;31mConnectTimeout\u001b[0m: HTTPSConnectionPool(host='swissdock.ch', port=8443): Max retries exceeded with url: /preplig?mySMILES=CCO (Caused by ConnectTimeoutError(<urllib3.connection.HTTPSConnection object at 0x0000020161C71700>, 'Connection to swissdock.ch timed out. (connect timeout=None)'))"
     ]
    }
   ],
   "source": [
    "requests.get(url,params=params)\n"
   ]
  },
  {
   "cell_type": "code",
   "execution_count": null,
   "metadata": {},
   "outputs": [],
   "source": []
  }
 ],
 "metadata": {
  "kernelspec": {
   "display_name": "myenv",
   "language": "python",
   "name": "python3"
  },
  "language_info": {
   "codemirror_mode": {
    "name": "ipython",
    "version": 3
   },
   "file_extension": ".py",
   "mimetype": "text/x-python",
   "name": "python",
   "nbconvert_exporter": "python",
   "pygments_lexer": "ipython3",
   "version": "3.12.4"
  },
  "orig_nbformat": 4
 },
 "nbformat": 4,
 "nbformat_minor": 2
}
